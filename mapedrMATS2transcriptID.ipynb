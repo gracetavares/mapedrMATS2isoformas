{
  "nbformat": 4,
  "nbformat_minor": 0,
  "metadata": {
    "colab": {
      "provenance": [],
      "mount_file_id": "1xHamM7tSO4u1ffboXZiFOihANI4vUAv6",
      "authorship_tag": "ABX9TyNaL5cTVBy/3kZp1aTsX6Hs",
      "include_colab_link": true
    },
    "kernelspec": {
      "name": "python3",
      "display_name": "Python 3"
    },
    "language_info": {
      "name": "python"
    }
  },
  "cells": [
    {
      "cell_type": "markdown",
      "metadata": {
        "id": "view-in-github",
        "colab_type": "text"
      },
      "source": [
        "<a href=\"https://colab.research.google.com/github/gracetavares/mapedrMATS2isoformas/blob/main/mapedrMATS2transcriptID.ipynb\" target=\"_parent\"><img src=\"https://colab.research.google.com/assets/colab-badge.svg\" alt=\"Open In Colab\"/></a>"
      ]
    },
    {
      "cell_type": "markdown",
      "source": [
        "**Bibliotecas**:\n",
        "1. *gffutils*:\n",
        "\n",
        "  1.1. manipulação de arquvos GFF e GTF\n",
        "\n",
        "  1.2. Cria um banco de dados do GTF(função create_db)\n",
        "\n",
        "  1.3. Condulta regiões por coordenadas (função db.region) e filtra por feature\n",
        "\n",
        "2. *pandas*:\n",
        "\n",
        "  2.1. Manipulação de tabelas e dados\n",
        "\n",
        "  2.2. lê e itera cada linha dos arquivos de splicing do rMATS (função pd.read_csv)\n",
        "\n",
        "  2.3. Cria a tabela final de resultados (função pd.DataFrame)\n",
        "\n",
        "3. *argparse*\n",
        "\n",
        "  3.1. criação de argumentos de linha de comando\n",
        "\n",
        "\n",
        "\n",
        "\n",
        "\n"
      ],
      "metadata": {
        "id": "qLji0_yf-iWO"
      }
    },
    {
      "cell_type": "code",
      "source": [
        "#!pip install gffutils\n",
        "!python3 drive/MyDrive/Colab\\ Notebooks/mapedrMATS2transcriptID.ipynb --gtf Cryptococcus_neoformans_var_grubii_h99_gca_000149245.CNA3.55.gtf --rmats A3SS.MATS.JCEC.txt --tipo_evento A3SS --out teste.tab"
      ],
      "metadata": {
        "collapsed": true,
        "id": "w1M0339zSAc7"
      },
      "execution_count": null,
      "outputs": []
    },
    {
      "cell_type": "code",
      "execution_count": null,
      "metadata": {
        "id": "GvDz-q2I8oaL"
      },
      "outputs": [],
      "source": [
        "#!/usr/bin/env python3\n",
        "import gffutils as gu #manipulação de arquivos gff e gtf e criação de banco de dados\n",
        "import pandas as pd #para criação do resultado final\n",
        "import argparse #para criação de argumentos\n",
        "\n",
        "##################################\n",
        "# Argumentos de entrada de dados #\n",
        "##################################\n",
        "parser = argparse.ArgumentParser(description=\"Mapear eventos do rMATS com os transcript_id dos arquivos GTF\")\n",
        "parser.add_argument(\"--gtf\", required=True, help=\"Entre com o arquivo GTF utilizado no mapeamento\")\n",
        "parser.add_argument(\"--rmats\", required=True, help=\"Arquivo de saída do rMATS (.MATS.JC.txt, JCEC.txt). Informe um por vez\")\n",
        "parser.add_argument(\"--tipo_evento\", required=True, help=\"Tipo de evento: SE, RI, A3SS, A5SS ou MXE. Informe conforme o arquivo do rMATS fornecido\")\n",
        "parser.add_argument(\"--out\", required=True, help=\"Arquivo de saída com mapeamento\")\n",
        "args = parser.parse_args()"
      ]
    },
    {
      "cell_type": "code",
      "source": [
        "####################################################\n",
        "# Criando o banco de dados a partir do arquivo GTF #\n",
        "####################################################\n",
        "\n",
        "print(\"Criando o banco de dados a partir do arquivo GTF...\")\n",
        "db = gu.create_db(\n",
        "    args.gtf,\n",
        "    dbfn=\"gtf.db\", #Caminho para o banco de dados que será criado\n",
        "    force=True, #para sobrescrever db existentes\n",
        "    keep_order=True,\n",
        "    merge_strategy=\"merge\", #merge para que os transcripts_id fiquem na mesma linha\n",
        "    sort_attribute_values=True #Todos os recursos retornados do banco de dados terão seu atributo valores classificados\n",
        ")\n"
      ],
      "metadata": {
        "id": "OFjlu68BCNtB"
      },
      "execution_count": null,
      "outputs": []
    },
    {
      "cell_type": "code",
      "source": [
        "#########################\n",
        "# Lendo o arquivo rMATS #\n",
        "#########################\n",
        "\n",
        "print(\"Lendo o arquivo rMATS: {args.rmats}\")\n",
        "rmats = pd.read_csv(args.rmats, sep=\"\\t\")"
      ],
      "metadata": {
        "id": "uSwXh3s2InnT"
      },
      "execution_count": null,
      "outputs": []
    },
    {
      "cell_type": "code",
      "source": [
        "################################################################################\n",
        "# Criação de uma função para pegar as coordenadas de cada evento: SE, RI, A3SS,#\n",
        "# A5SS e MXE                                                                   #\n",
        "################################################################################\n",
        "\n",
        "def coords (line, type):\n",
        "  if type == \"SE\":\n",
        "    return (line['chr'], line['exonStart_0base']+1, line['exonEnd'], line['strand'])\n",
        "  elif type == \"RI\":\n",
        "    return (line['chr'], line['riExonStart_0base']+1, line['riExonEnd'], line['strand'])\n",
        "  elif type == \"MXE\":\n",
        "    return (line['chr'], line['1stExonStart_0base']+1, line['1stExonEnd'], line['strand'])\n",
        "  elif type == \"A3SS\":\n",
        "    return (line['chr'], line['longExonStart_0base']+1, line['longExonEnd'], line['strand'])\n",
        "  elif type == \"A5SS\":\n",
        "    return (line['chr'], line['longExonStart_0base']+1, line['longExonEnd'], line['strand'])\n",
        "  else:\n",
        "    raise ValueError(\"Por favor informe um evento válido: SE, RI, A3SS, A5SS e MXE\")"
      ],
      "metadata": {
        "id": "Z_nCO-BnJy6Z"
      },
      "execution_count": null,
      "outputs": []
    },
    {
      "cell_type": "code",
      "source": [
        "################################################################################\n",
        "# Mapeando os os genes vs. transcript_id                                       #                                                       #\n",
        "################################################################################\n",
        "\n",
        "print(\"Mapeando os os genes vs. transcript_id.\")\n",
        "\n",
        "results = []\n",
        "\n",
        "for _, line in rmats.iterrows():\n",
        "    chrom, start, end, strand = coords(line, args.tipo_evento)\n",
        "    #verifica overlap entre os transcritos\n",
        "    for feat in db.region(region=(chrom, start-5, end+5), strand=strand,\n",
        "                          featuretype='exon'):\n",
        "        tid = feat.attributes.get('transcript_id', ['NA'])[0]\n",
        "        gid = feat.attributes.get('gene_id', ['NA'])[0]\n",
        "        results.append({\n",
        "            \"Evento\": line['ID'],\n",
        "            \"Gene_ID\": gid,\n",
        "            \"Transcript_ID\": tid,\n",
        "            \"Chr\": chrom,\n",
        "            \"Start\": start,\n",
        "            \"End\": end,\n",
        "            \"Strand\": strand\n",
        "        })"
      ],
      "metadata": {
        "id": "c0FEkMfANBF7"
      },
      "execution_count": null,
      "outputs": []
    },
    {
      "cell_type": "code",
      "source": [
        "######################\n",
        "# Saída do resultado #                                                       #\n",
        "######################\n",
        "\n",
        "saida_df = pd.DataFrame(results).drop_duplicates()\n",
        "saida_df.to_csv(args.saida, sep=\"\\t\", index=False)\n",
        "print(\"Mapeamento salvo em: {args.out}\")"
      ],
      "metadata": {
        "id": "1fkbCqEwQFmZ"
      },
      "execution_count": null,
      "outputs": []
    }
  ]
}