{
  "nbformat": 4,
  "nbformat_minor": 0,
  "metadata": {
    "colab": {
      "provenance": [],
      "toc_visible": true,
      "authorship_tag": "ABX9TyPbx3Pwi4KnfCCnsF1wQFnE",
      "include_colab_link": true
    },
    "kernelspec": {
      "name": "python3",
      "display_name": "Python 3"
    },
    "language_info": {
      "name": "python"
    }
  },
  "cells": [
    {
      "cell_type": "markdown",
      "metadata": {
        "id": "view-in-github",
        "colab_type": "text"
      },
      "source": [
        "<a href=\"https://colab.research.google.com/github/gracetavares/mapedrMATS2isoformas/blob/main/mapedrMATS2transcriptID.ipynb\" target=\"_parent\"><img src=\"https://colab.research.google.com/assets/colab-badge.svg\" alt=\"Open In Colab\"/></a>"
      ]
    },
    {
      "cell_type": "markdown",
      "source": [
        "**Bibliotecas**:\n",
        "1. *gffutils*:\n",
        "\n",
        "  1.1. manipulação de arquvos GFF e GTF\n",
        "\n",
        "  1.2. Cria um banco de dados do GTF(função create_db)\n",
        "\n",
        "  1.3. Condulta regiões por coordenadas (função db.region) e filtra por feature\n",
        "\n",
        "2. *pandas*:\n",
        "\n",
        "  2.1. Manipulação de tabelas e dados\n",
        "\n",
        "  2.2. lê e itera cada linha dos arquivos de splicing do rMATS (função pd.read_csv)\n",
        "\n",
        "  2.3. Cria a tabela final de resultados (função pd.DataFrame)\n",
        "\n",
        "3. *argparse*\n",
        "\n",
        "  3.1. criação de argumentos de linha de comando\n",
        "\n",
        "\n",
        "\n",
        "\n",
        "\n"
      ],
      "metadata": {
        "id": "qLji0_yf-iWO"
      }
    },
    {
      "cell_type": "code",
      "source": [
        "#!pip install gffutils"
      ],
      "metadata": {
        "colab": {
          "base_uri": "https://localhost:8080/"
        },
        "collapsed": true,
        "id": "w1M0339zSAc7",
        "outputId": "609fbe2f-b255-49d5-e133-1cb17810f081"
      },
      "execution_count": null,
      "outputs": [
        {
          "output_type": "stream",
          "name": "stdout",
          "text": [
            "Collecting gffutils\n",
            "  Downloading gffutils-0.13-py3-none-any.whl.metadata (1.5 kB)\n",
            "Collecting pyfaidx>=0.5.5.2 (from gffutils)\n",
            "  Downloading pyfaidx-0.8.1.4-py3-none-any.whl.metadata (25 kB)\n",
            "Collecting argh>=0.26.2 (from gffutils)\n",
            "  Downloading argh-0.31.3-py3-none-any.whl.metadata (7.4 kB)\n",
            "Collecting argcomplete>=1.9.4 (from gffutils)\n",
            "  Downloading argcomplete-3.6.2-py3-none-any.whl.metadata (16 kB)\n",
            "Requirement already satisfied: simplejson in /usr/local/lib/python3.11/dist-packages (from gffutils) (3.20.1)\n",
            "Requirement already satisfied: packaging in /usr/local/lib/python3.11/dist-packages (from pyfaidx>=0.5.5.2->gffutils) (25.0)\n",
            "Downloading gffutils-0.13-py3-none-any.whl (1.6 MB)\n",
            "\u001b[2K   \u001b[90m━━━━━━━━━━━━━━━━━━━━━━━━━━━━━━━━━━━━━━━━\u001b[0m \u001b[32m1.6/1.6 MB\u001b[0m \u001b[31m38.0 MB/s\u001b[0m eta \u001b[36m0:00:00\u001b[0m\n",
            "\u001b[?25hDownloading argcomplete-3.6.2-py3-none-any.whl (43 kB)\n",
            "\u001b[2K   \u001b[90m━━━━━━━━━━━━━━━━━━━━━━━━━━━━━━━━━━━━━━━━\u001b[0m \u001b[32m43.7/43.7 kB\u001b[0m \u001b[31m3.9 MB/s\u001b[0m eta \u001b[36m0:00:00\u001b[0m\n",
            "\u001b[?25hDownloading argh-0.31.3-py3-none-any.whl (44 kB)\n",
            "\u001b[2K   \u001b[90m━━━━━━━━━━━━━━━━━━━━━━━━━━━━━━━━━━━━━━━━\u001b[0m \u001b[32m44.8/44.8 kB\u001b[0m \u001b[31m3.7 MB/s\u001b[0m eta \u001b[36m0:00:00\u001b[0m\n",
            "\u001b[?25hDownloading pyfaidx-0.8.1.4-py3-none-any.whl (28 kB)\n",
            "Installing collected packages: pyfaidx, argh, argcomplete, gffutils\n",
            "Successfully installed argcomplete-3.6.2 argh-0.31.3 gffutils-0.13 pyfaidx-0.8.1.4\n"
          ]
        }
      ]
    },
    {
      "cell_type": "code",
      "execution_count": null,
      "metadata": {
        "colab": {
          "base_uri": "https://localhost:8080/",
          "height": 144
        },
        "id": "GvDz-q2I8oaL",
        "outputId": "b99f52fc-f8fb-4c07-b79a-2694f81af2db"
      },
      "outputs": [
        {
          "output_type": "stream",
          "name": "stderr",
          "text": [
            "usage: colab_kernel_launcher.py [-h] --gtf GTF --rmats RMATS --tipo_evento\n",
            "                                TIPO_EVENTO --out OUT\n",
            "colab_kernel_launcher.py: error: the following arguments are required: --gtf, --rmats, --tipo_evento, --out\n"
          ]
        },
        {
          "output_type": "error",
          "ename": "SystemExit",
          "evalue": "2",
          "traceback": [
            "An exception has occurred, use %tb to see the full traceback.\n",
            "\u001b[0;31mSystemExit\u001b[0m\u001b[0;31m:\u001b[0m 2\n"
          ]
        }
      ],
      "source": [
        "#!/usr/bin/env python3\n",
        "import gffutils as gu #manipulação de arquivos gff e gtf e criação de banco de dados\n",
        "import pandas as pd #para criação do resultado final\n",
        "import argparse #para criação de argumentos\n",
        "\n",
        "##################################\n",
        "# Argumentos de entrada de dados #\n",
        "##################################\n",
        "parser = argparse.ArgumentParser(description=\"Mapear eventos do rMATS com os transcript_id dos arquivos GTF\")\n",
        "parser.add_argument(\"--gtf\", required=True, help=\"Entre com o arquivo GTF utilizado no mapeamento\")\n",
        "parser.add_argument(\"--rmats\", required=True, help=\"Arquivo de saída do rMATS (.MATS.JC.txt, JCEC.txt). Informe um por vez\")\n",
        "parser.add_argument(\"--tipo_evento\", required=True, help=\"Tipo de evento: SE, RI, A3SS, A5SS ou MXE. Informe conforme o arquivo do rMATS fornecido\")\n",
        "parser.add_argument(\"--out\", required=True, help=\"Arquivo de saída com mapeamento\")\n",
        "args = parser.parse_args()"
      ]
    },
    {
      "cell_type": "code",
      "source": [
        "####################################################\n",
        "# Criando o banco de dados a partir do arquivo GTF #\n",
        "####################################################\n",
        "\n",
        "print(\"Criando o banco de dados a partir do arquivo GTF...\")\n",
        "db = gu.create_db(\n",
        "    args.gtf,\n",
        "    dbfn=\"gtf.db\", #Caminho para o banco de dados que será criado\n",
        "    force=True, #para sobrescrever db existentes\n",
        "    keep_order=True,\n",
        "    merge_strategy=\"merge\", #merge para que os transcripts_id fiquem na mesma linha\n",
        "    sort_attribute_values=True #Todos os recursos retornados do banco de dados terão seu atributo valores classificados\n",
        ")\n"
      ],
      "metadata": {
        "id": "OFjlu68BCNtB"
      },
      "execution_count": null,
      "outputs": []
    },
    {
      "cell_type": "code",
      "source": [
        "#########################\n",
        "# Lendo o arquivo rMATS #\n",
        "#########################\n",
        "\n",
        "print(\"Lendo o arquivo rMATS: {args.rmats}\")\n",
        "rmats = pd.read_csv(args.rmats, sep=\"\\t\")"
      ],
      "metadata": {
        "id": "uSwXh3s2InnT"
      },
      "execution_count": null,
      "outputs": []
    },
    {
      "cell_type": "code",
      "source": [
        "################################################################################\n",
        "# Criação de uma função para pegar as coordenadas de cada evento: SE, RI, A3SS,#\n",
        "# A5SS e MXE                                                                   #\n",
        "################################################################################\n",
        "\n",
        "def coords (line, type):\n",
        "  if type == \"SE\":\n",
        "    return (line['chr'], line['exonStart_0base']+1, line['exonEnd'], line['strand'])\n",
        "  elif type == \"RI\":\n",
        "    return (line['chr'], line['riExonStart_0base']+1, line['riExonEnd'], line['strand'])\n",
        "  elif type == \"MXE\":\n",
        "    return (line['chr'], line['1stExonStart_0base']+1, line['1stExonEnd'], line['strand'])\n",
        "  elif type == \"A3SS\":\n",
        "    return (line['chr'], line['longExonStart_0base']+1, line['longExonEnd'], line['strand'])\n",
        "  elif type == \"A5SS\":\n",
        "    return (line['chr'], line['longExonStart_0base']+1, line['longExonEnd'], line['strand'])\n",
        "  else:\n",
        "    raise ValueError(\"Por favor informe um evento válido: SE, RI, A3SS, A5SS e MXE\")"
      ],
      "metadata": {
        "id": "Z_nCO-BnJy6Z"
      },
      "execution_count": null,
      "outputs": []
    },
    {
      "cell_type": "code",
      "source": [
        "################################################################################\n",
        "# Mapeando os os genes vs. transcript_id                                       #                                                       #\n",
        "################################################################################\n",
        "\n",
        "print(\"Mapeando os os genes vs. transcript_id.\")\n",
        "\n",
        "results = []\n",
        "\n",
        "for _, line in rmats.iterrows():\n",
        "    chrom, start, end, strand = coords(line, args.tipo_evento)\n",
        "\n",
        "    for feat in db.region(region=(chrom, start, end), strand=strand,\n",
        "                          featuretype='exon'):\n",
        "        tid = feat.attributes.get('transcript_id', ['NA'])[0]\n",
        "        gid = feat.attributes.get('gene_id', ['NA'])[0]\n",
        "        results.append({\n",
        "            \"Evento\": line['ID'],\n",
        "            \"Gene_ID\": gid,\n",
        "            \"Transcript_ID\": tid,\n",
        "            \"Chr\": chrom,\n",
        "            \"Start\": start,\n",
        "            \"End\": end,\n",
        "            \"Strand\": strand\n",
        "        })"
      ],
      "metadata": {
        "id": "c0FEkMfANBF7"
      },
      "execution_count": null,
      "outputs": []
    },
    {
      "cell_type": "code",
      "source": [
        "######################\n",
        "# Saída do resultado #                                                       #\n",
        "######################\n",
        "\n",
        "saida_df = pd.DataFrame(results).drop_duplicates()\n",
        "saida_df.to_csv(args.saida, sep=\"\\t\", index=False)\n",
        "print(\"Mapeamento salvo em: {args.out}\")"
      ],
      "metadata": {
        "id": "1fkbCqEwQFmZ"
      },
      "execution_count": null,
      "outputs": []
    }
  ]
}